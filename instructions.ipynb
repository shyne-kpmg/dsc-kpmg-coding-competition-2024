{
 "cells": [
  {
   "cell_type": "markdown",
   "metadata": {},
   "source": [
    "# Instructions\n",
    "\n",
    "Complete the functions in the ***solutions*** folder to solve the tasks defined in ***tasks.pdf***.\n",
    "\n",
    "You may use built-in python packages, NumPy, and Pandas. To use NumPy and Pandas, you will need to import the packages in your solution files.\n",
    "\n",
    "Note: Alternative instructions are provided in README.md if you would like to use the terminal rather than an iPython notebook."
   ]
  },
  {
   "cell_type": "markdown",
   "metadata": {},
   "source": [
    "#### Getting Started\n",
    "\n",
    "**Optional**: To create a virtual environment, run the below cell. To activate the environment, click on the current kernel (probably named Python x.y.z) at the top right of this notebook, click Select Another Kernel, click Python Environment, then select *myvenv*."
   ]
  },
  {
   "cell_type": "code",
   "execution_count": 1,
   "metadata": {},
   "outputs": [],
   "source": [
    "# 2. activate this virtual environment\n",
    "#   at the top right of yor notebook,  click on the current kernel (probably named Python x.y.z)\n",
    "#   select Select Another Kernel, select Python Environment, then select myvenv\n",
    "# 3. when you run the next cell, select Install when you are prompted to install the ipynb package\n",
    "import venv\n",
    "\n",
    "venv.main([\"myvenv\"])"
   ]
  },
  {
   "cell_type": "markdown",
   "metadata": {},
   "source": [
    "To install pandas and numpy, run the below cell."
   ]
  },
  {
   "cell_type": "code",
   "execution_count": null,
   "metadata": {},
   "outputs": [],
   "source": [
    "%pip install numpy\n",
    "%pip install pandas"
   ]
  },
  {
   "cell_type": "markdown",
   "metadata": {},
   "source": [
    "To rename all solution files to include your team name, run the below command, replacing `\"your_team_name\"` with your chosen team name."
   ]
  },
  {
   "cell_type": "code",
   "execution_count": null,
   "metadata": {},
   "outputs": [],
   "source": [
    "import rename_solutions\n",
    "\n",
    "team_name = \"your_team_name\"\n",
    "rename_solutions.main([str(team_name)])"
   ]
  },
  {
   "cell_type": "markdown",
   "metadata": {},
   "source": [
    "#### Testing Solutions\n",
    "\n",
    "You can run your solutions against sample test cases using the code below, updating the `question number` variable to the solution you would like to test."
   ]
  },
  {
   "cell_type": "code",
   "execution_count": null,
   "metadata": {},
   "outputs": [],
   "source": [
    "%load_ext autoreload\n",
    "%autoreload 2"
   ]
  },
  {
   "cell_type": "code",
   "execution_count": null,
   "metadata": {},
   "outputs": [],
   "source": [
    "import test_solution"
   ]
  },
  {
   "cell_type": "code",
   "execution_count": null,
   "metadata": {},
   "outputs": [],
   "source": [
    "question_number = 0\n",
    "test_solution.main([str(question_number)])"
   ]
  },
  {
   "cell_type": "code",
   "execution_count": null,
   "metadata": {},
   "outputs": [],
   "source": []
  }
 ],
 "metadata": {
  "kernelspec": {
   "display_name": "Python 3",
   "language": "python",
   "name": "python3"
  },
  "language_info": {
   "codemirror_mode": {
    "name": "ipython",
    "version": 3
   },
   "file_extension": ".py",
   "mimetype": "text/x-python",
   "name": "python",
   "nbconvert_exporter": "python",
   "pygments_lexer": "ipython3",
   "version": "3.11.8"
  },
  "orig_nbformat": 4
 },
 "nbformat": 4,
 "nbformat_minor": 2
}
